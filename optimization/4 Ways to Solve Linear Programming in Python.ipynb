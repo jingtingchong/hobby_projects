{
 "cells": [
  {
   "cell_type": "markdown",
   "id": "d3bb9aae",
   "metadata": {},
   "source": [
    "# 4 Ways to Solve Linear Programming in Python\n",
    "SciPy | PuLP | Pyomo | Google OR-Tools"
   ]
  },
  {
   "cell_type": "markdown",
   "id": "9d063e02",
   "metadata": {},
   "source": [
    "### SciPy"
   ]
  },
  {
   "cell_type": "code",
   "execution_count": 2,
   "id": "75ac5aee",
   "metadata": {},
   "outputs": [
    {
     "name": "stdout",
     "output_type": "stream",
     "text": [
      "The solution is optimal.\n",
      "Objective value: z* = -170.0\n",
      "Solution: x1* = 10.0, x2* = 14.0\n"
     ]
    }
   ],
   "source": [
    "from scipy.optimize import linprog\n",
    "\n",
    "# declare the decision variable bounds\n",
    "x1_bounds = (0, None)\n",
    "x2_bounds = (0, None)\n",
    "\n",
    "# declare coefficients of the objective function \n",
    "c = [-10, -5]\n",
    "\n",
    "# declare the inequality constraint matrix\n",
    "A = [[1,  1], \n",
    "     [10, 0], \n",
    "     [0,  5]]\n",
    "\n",
    "# declare the inequality constraint vector\n",
    "b = [24, 100, 100]\n",
    "\n",
    "# solve \n",
    "results = linprog(c=c, A_ub=A, b_ub=b, bounds=[x1_bounds, x2_bounds], method='highs-ds')\n",
    "\n",
    "# print results\n",
    "if results.status == 0: print(f'The solution is optimal.') \n",
    "print(f'Objective value: z* = {results.fun}')\n",
    "print(f'Solution: x1* = {results.x[0]}, x2* = {results.x[1]}')"
   ]
  },
  {
   "cell_type": "markdown",
   "id": "e038b1b2",
   "metadata": {},
   "source": [
    "### PuLP"
   ]
  },
  {
   "cell_type": "code",
   "execution_count": 3,
   "id": "392adae9",
   "metadata": {},
   "outputs": [
    {
     "name": "stdout",
     "output_type": "stream",
     "text": [
      "The solution is optimal.\n",
      "Objective value: z* = 170.0\n",
      "Solution: x1* = 10.0, x2* = 14.0\n"
     ]
    }
   ],
   "source": [
    "from pulp import *\n",
    "\n",
    "model = pulp.LpProblem('linear_programming', LpMaximize)\n",
    "\n",
    "# get solver\n",
    "solver = getSolver('PULP_CBC_CMD')\n",
    "\n",
    "# declare decision variables\n",
    "x1 = LpVariable('x1', lowBound = 0, cat = 'continuous')\n",
    "x2 = LpVariable('x2', lowBound = 0, cat = 'continuous')\n",
    "\n",
    "# declare objective\n",
    "model += 10*x1 + 5*x2\n",
    "\n",
    "# declare constraints\n",
    "model += x1 + x2 <= 24\n",
    "model += 10*x1 <= 100\n",
    "model += 5*x2 <= 100\n",
    "\n",
    "# solve \n",
    "results = model.solve(solver=solver)\n",
    "\n",
    "# print results\n",
    "if LpStatus[results] == 'Optimal': print('The solution is optimal.')\n",
    "print(f'Objective value: z* = {value(model.objective)}')\n",
    "print(f'Solution: x1* = {value(x1)}, x2* = {value(x2)}')"
   ]
  },
  {
   "cell_type": "markdown",
   "id": "bcf53e91",
   "metadata": {},
   "source": [
    "### Pyomo"
   ]
  },
  {
   "cell_type": "code",
   "execution_count": 4,
   "id": "f4a263f8",
   "metadata": {},
   "outputs": [
    {
     "name": "stdout",
     "output_type": "stream",
     "text": [
      "The solution is optimal.\n",
      "Objective value: z* = 170.0\n",
      "Solution: x1* = 10.0, x2* = 14.0\n"
     ]
    }
   ],
   "source": [
    "from pyomo.environ import *\n",
    "\n",
    "model = ConcreteModel('linear_programming')\n",
    "\n",
    "# declare decision variables\n",
    "model.x1 = Var(domain = NonNegativeReals)\n",
    "model.x2 = Var(domain = NonNegativeReals)\n",
    "\n",
    "# declare objective\n",
    "model.obj = Objective(expr = 10*model.x1 + 5*model.x2, sense = maximize)\n",
    "\n",
    "# declare constraints\n",
    "model.c1 = Constraint(expr = model.x1 + model.x2 <= 24)\n",
    "model.c2 = Constraint(expr = 10*model.x1 <= 100)\n",
    "model.c3 = Constraint(expr = 5*model.x2 <= 100)\n",
    "\n",
    "# solve\n",
    "results = SolverFactory('cbc').solve(model)\n",
    "\n",
    "# print results\n",
    "if results.solver.termination_condition == TerminationCondition.optimal: print('The solution is optimal.')\n",
    "print(f'Objective value: z* = {value(model.obj)}')\n",
    "print(f'Solution: x1* = {value(model.x1)}, x2* = {value(model.x2)}')"
   ]
  },
  {
   "cell_type": "markdown",
   "id": "6d13728c",
   "metadata": {},
   "source": [
    "### Google OR-Tools"
   ]
  },
  {
   "cell_type": "code",
   "execution_count": 5,
   "id": "065635a9",
   "metadata": {
    "scrolled": true
   },
   "outputs": [
    {
     "name": "stdout",
     "output_type": "stream",
     "text": [
      "The solution is optimal.\n",
      "Objective value: z* = 170.0\n",
      "Solution: x1* = 10.0, x2* = 14.0\n"
     ]
    }
   ],
   "source": [
    "from ortools.linear_solver import pywraplp\n",
    "\n",
    "# get solver \n",
    "solver = pywraplp.Solver.CreateSolver('GLOP')\n",
    "\n",
    "# declare decision variables\n",
    "x1 = solver.NumVar(0.0, solver.infinity(), 'x1')\n",
    "x2 = solver.NumVar(0.0, solver.infinity(), 'x2')\n",
    "\n",
    "# declare objective\n",
    "solver.Maximize(10*x1 + 5*x2)\n",
    "\n",
    "# declare constraints\n",
    "solver.Add(x1 + x2 <= 24)\n",
    "solver.Add(10*x1 <= 100)\n",
    "solver.Add(5*x2 <= 100)\n",
    "\n",
    "# solve\n",
    "results = solver.Solve()\n",
    "\n",
    "# print results\n",
    "if results == pywraplp.Solver.OPTIMAL: print(f'The solution is optimal.') \n",
    "print(f'Objective value: z* = {solver.Objective().Value()}')\n",
    "print(f'Solution: x1* = {x1.solution_value()}, x2* = {x2.solution_value()}')"
   ]
  }
 ],
 "metadata": {
  "kernelspec": {
   "display_name": "Python 3",
   "language": "python",
   "name": "python3"
  },
  "language_info": {
   "codemirror_mode": {
    "name": "ipython",
    "version": 3
   },
   "file_extension": ".py",
   "mimetype": "text/x-python",
   "name": "python",
   "nbconvert_exporter": "python",
   "pygments_lexer": "ipython3",
   "version": "3.8.3"
  }
 },
 "nbformat": 4,
 "nbformat_minor": 5
}
