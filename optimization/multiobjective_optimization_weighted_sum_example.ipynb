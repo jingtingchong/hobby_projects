{
 "cells": [
  {
   "cell_type": "code",
   "execution_count": 10,
   "id": "9fb89909",
   "metadata": {},
   "outputs": [],
   "source": [
    "from pyomo.environ import *\n",
    "import numpy as np\n",
    "import matplotlib.pyplot as plt\n",
    "import pandas as pd\n",
    "import seaborn as sns"
   ]
  },
  {
   "cell_type": "markdown",
   "id": "02ff11be",
   "metadata": {},
   "source": [
    "#### Create an instance "
   ]
  },
  {
   "cell_type": "code",
   "execution_count": 11,
   "id": "f7cf10ca",
   "metadata": {},
   "outputs": [],
   "source": [
    "model = ConcreteModel(\"Multiobjective Optimization\")"
   ]
  },
  {
   "cell_type": "markdown",
   "id": "2e5d86be",
   "metadata": {},
   "source": [
    "#### Decision variables"
   ]
  },
  {
   "cell_type": "code",
   "execution_count": 12,
   "id": "cec53dd8",
   "metadata": {},
   "outputs": [],
   "source": [
    "model.x1=Var(domain = NonNegativeReals)\n",
    "model.x2=Var(domain = NonNegativeReals)"
   ]
  },
  {
   "cell_type": "markdown",
   "id": "988e4a93",
   "metadata": {},
   "source": [
    "#### Parameters"
   ]
  },
  {
   "cell_type": "code",
   "execution_count": 13,
   "id": "f4c5858e",
   "metadata": {},
   "outputs": [
    {
     "name": "stdout",
     "output_type": "stream",
     "text": [
      "w : Size=1, Index=None, Domain=Any, Default=None, Mutable=True\n",
      "    Key  : Value\n",
      "    None :   1.0\n"
     ]
    }
   ],
   "source": [
    "model.w = Param(initialize = 1.0, mutable=True)\n",
    "model.w.pprint()"
   ]
  },
  {
   "cell_type": "markdown",
   "id": "664571e6",
   "metadata": {},
   "source": [
    "#### Objective function"
   ]
  },
  {
   "cell_type": "code",
   "execution_count": 14,
   "id": "205e8664",
   "metadata": {},
   "outputs": [
    {
     "name": "stdout",
     "output_type": "stream",
     "text": [
      "[0.  0.2 0.4 0.6 0.8 1. ]\n"
     ]
    }
   ],
   "source": [
    "weightage_list = np.linspace(0.0, 1.0, 6)\n",
    "print(weightage_list)"
   ]
  },
  {
   "cell_type": "code",
   "execution_count": 15,
   "id": "1134f802",
   "metadata": {},
   "outputs": [
    {
     "name": "stdout",
     "output_type": "stream",
     "text": [
      "obj1 : Size=1, Index=None, Active=True\n",
      "    Key  : Active : Sense    : Expression\n",
      "    None :   True : minimize : w*((x1 - 5)**2 + (x2 - 5)**2) + (1 - w)*((x1 - 10)**2 + (x2 - 10)**2)\n"
     ]
    }
   ],
   "source": [
    "# weighted sum\n",
    "model.obj1 = Objective(expr = model.w*((model.x1 - 5)**2 + (model.x2 - 5)**2) + \\\n",
    "                              (1-model.w)*((model.x1 - 10)**2 + (model.x2 - 10)**2), sense=minimize)\n",
    "model.obj1.pprint()"
   ]
  },
  {
   "cell_type": "markdown",
   "id": "f659940f",
   "metadata": {},
   "source": [
    "#### Run"
   ]
  },
  {
   "cell_type": "code",
   "execution_count": 16,
   "id": "ca0fe89e",
   "metadata": {},
   "outputs": [],
   "source": [
    "solutions = []\n",
    "obj1 = []\n",
    "obj2 = []\n",
    "for w in weightage_list: \n",
    "    model.w = w\n",
    "    SolverFactory('ipopt').solve(model)\n",
    "    solutions.append([model.x1(), model.x2()])\n",
    "    obj1_temp = (model.x1() - 5)**2 + (model.x2() - 5)**2\n",
    "    obj2_temp = (model.x1() - 10)**2 + (model.x2() - 10)**2\n",
    "    obj1.append(value(obj1_temp))\n",
    "    obj2.append(value(obj2_temp))"
   ]
  },
  {
   "cell_type": "markdown",
   "id": "bf905cea",
   "metadata": {},
   "source": [
    "#### Results"
   ]
  },
  {
   "cell_type": "code",
   "execution_count": 17,
   "id": "0a36ec34",
   "metadata": {},
   "outputs": [
    {
     "data": {
      "text/html": [
       "<div>\n",
       "<style scoped>\n",
       "    .dataframe tbody tr th:only-of-type {\n",
       "        vertical-align: middle;\n",
       "    }\n",
       "\n",
       "    .dataframe tbody tr th {\n",
       "        vertical-align: top;\n",
       "    }\n",
       "\n",
       "    .dataframe thead th {\n",
       "        text-align: right;\n",
       "    }\n",
       "</style>\n",
       "<table border=\"1\" class=\"dataframe\">\n",
       "  <thead>\n",
       "    <tr style=\"text-align: right;\">\n",
       "      <th></th>\n",
       "      <th>w1</th>\n",
       "      <th>w2</th>\n",
       "      <th>x1</th>\n",
       "      <th>x2</th>\n",
       "      <th>f1</th>\n",
       "      <th>f2</th>\n",
       "    </tr>\n",
       "  </thead>\n",
       "  <tbody>\n",
       "    <tr>\n",
       "      <th>0</th>\n",
       "      <td>0.0</td>\n",
       "      <td>1.0</td>\n",
       "      <td>10.0</td>\n",
       "      <td>10.0</td>\n",
       "      <td>50.0</td>\n",
       "      <td>0.0</td>\n",
       "    </tr>\n",
       "    <tr>\n",
       "      <th>1</th>\n",
       "      <td>0.2</td>\n",
       "      <td>0.8</td>\n",
       "      <td>9.0</td>\n",
       "      <td>9.0</td>\n",
       "      <td>32.0</td>\n",
       "      <td>2.0</td>\n",
       "    </tr>\n",
       "    <tr>\n",
       "      <th>2</th>\n",
       "      <td>0.4</td>\n",
       "      <td>0.6</td>\n",
       "      <td>8.0</td>\n",
       "      <td>8.0</td>\n",
       "      <td>18.0</td>\n",
       "      <td>8.0</td>\n",
       "    </tr>\n",
       "    <tr>\n",
       "      <th>3</th>\n",
       "      <td>0.6</td>\n",
       "      <td>0.4</td>\n",
       "      <td>7.0</td>\n",
       "      <td>7.0</td>\n",
       "      <td>8.0</td>\n",
       "      <td>18.0</td>\n",
       "    </tr>\n",
       "    <tr>\n",
       "      <th>4</th>\n",
       "      <td>0.8</td>\n",
       "      <td>0.2</td>\n",
       "      <td>6.0</td>\n",
       "      <td>6.0</td>\n",
       "      <td>2.0</td>\n",
       "      <td>32.0</td>\n",
       "    </tr>\n",
       "    <tr>\n",
       "      <th>5</th>\n",
       "      <td>1.0</td>\n",
       "      <td>0.0</td>\n",
       "      <td>5.0</td>\n",
       "      <td>5.0</td>\n",
       "      <td>0.0</td>\n",
       "      <td>50.0</td>\n",
       "    </tr>\n",
       "  </tbody>\n",
       "</table>\n",
       "</div>"
      ],
      "text/plain": [
       "    w1   w2    x1    x2    f1    f2\n",
       "0  0.0  1.0  10.0  10.0  50.0   0.0\n",
       "1  0.2  0.8   9.0   9.0  32.0   2.0\n",
       "2  0.4  0.6   8.0   8.0  18.0   8.0\n",
       "3  0.6  0.4   7.0   7.0   8.0  18.0\n",
       "4  0.8  0.2   6.0   6.0   2.0  32.0\n",
       "5  1.0  0.0   5.0   5.0   0.0  50.0"
      ]
     },
     "execution_count": 17,
     "metadata": {},
     "output_type": "execute_result"
    }
   ],
   "source": [
    "# store results in dataframe \n",
    "results = pd.DataFrame()\n",
    "results['w1'] = weightage_list\n",
    "results['w2'] = (1-weightage_list)\n",
    "results[['x1', 'x2']] = solutions\n",
    "results['f1'] = [round(v, 2) for v in obj1]\n",
    "results['f2'] = [round(v, 2) for v in obj2]\n",
    "\n",
    "pd.set_option(\"display.precision\", 2)\n",
    "results"
   ]
  },
  {
   "cell_type": "markdown",
   "id": "9fc17ce0",
   "metadata": {},
   "source": [
    "#### Plot efficient frontier "
   ]
  },
  {
   "cell_type": "code",
   "execution_count": 18,
   "id": "9111e8c5",
   "metadata": {},
   "outputs": [
    {
     "data": {
      "image/png": "[encoded data removed]",
      "text/plain": [
       "<Figure size 500x500 with 1 Axes>"
      ]
     },
     "metadata": {},
     "output_type": "display_data"
    }
   ],
   "source": [
    "# plot efficient frontier\n",
    "fig, ax = plt.subplots(figsize = (5, 5))\n",
    "plt.plot(obj1, obj2, marker = '*', label='efficient frontier')\n",
    "plt.xlabel('f1')\n",
    "plt.ylabel('f2')\n",
    "plt.title('Pareto frontier')\n",
    "plt.legend()\n",
    "plt.show()"
   ]
  },
  {
   "cell_type": "code",
   "execution_count": null,
   "id": "9d1af15c",
   "metadata": {},
   "outputs": [],
   "source": []
  }
 ],
 "metadata": {
  "kernelspec": {
   "display_name": "Python 3",
   "language": "python",
   "name": "python3"
  },
  "language_info": {
   "codemirror_mode": {
    "name": "ipython",
    "version": 3
   },
   "file_extension": ".py",
   "mimetype": "text/x-python",
   "name": "python",
   "nbconvert_exporter": "python",
   "pygments_lexer": "ipython3",
   "version": "3.8.3"
  },
  "toc": {
   "base_numbering": 1,
   "nav_menu": {},
   "number_sections": true,
   "sideBar": true,
   "skip_h1_title": false,
   "title_cell": "Table of Contents",
   "title_sidebar": "Contents",
   "toc_cell": false,
   "toc_position": {},
   "toc_section_display": true,
   "toc_window_display": false
  }
 },
 "nbformat": 4,
 "nbformat_minor": 5
}
