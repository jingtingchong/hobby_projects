{
 "cells": [
  {
   "cell_type": "code",
   "execution_count": 1,
   "id": "9fb89909",
   "metadata": {},
   "outputs": [
    {
     "name": "stderr",
     "output_type": "stream",
     "text": [
      "C:\\Users\\User\\anaconda3\\lib\\site-packages\\numpy\\_distributor_init.py:30: UserWarning: loaded more than 1 DLL from .libs:\n",
      "C:\\Users\\User\\anaconda3\\lib\\site-packages\\numpy\\.libs\\libopenblas.EL2C6PLE4ZYW3ECEVIV3OXXGRN2NRFM2.gfortran-win_amd64.dll\n",
      "C:\\Users\\User\\anaconda3\\lib\\site-packages\\numpy\\.libs\\libopenblas.WCDJNK7YVMPZQ2ME2ZZHJJRJ3JIKNDB7.gfortran-win_amd64.dll\n",
      "  warnings.warn(\"loaded more than 1 DLL from .libs:\"\n"
     ]
    }
   ],
   "source": [
    "from pyomo.environ import *\n",
    "import numpy as np\n",
    "import yfinance as yf\n",
    "import matplotlib.pyplot as plt\n",
    "import pandas as pd\n",
    "import seaborn as sns\n",
    "\n",
    "# https://quantivity.wordpress.com/2011/02/21/why-log-returns/"
   ]
  },
  {
   "cell_type": "markdown",
   "id": "6c60edd3",
   "metadata": {},
   "source": [
    "### EDA"
   ]
  },
  {
   "cell_type": "code",
   "execution_count": 2,
   "id": "d72889af",
   "metadata": {},
   "outputs": [
    {
     "name": "stdout",
     "output_type": "stream",
     "text": [
      "[*********************100%***********************]  4 of 4 completed\n"
     ]
    },
    {
     "data": {
      "text/html": [
       "<div>\n",
       "<style scoped>\n",
       "    .dataframe tbody tr th:only-of-type {\n",
       "        vertical-align: middle;\n",
       "    }\n",
       "\n",
       "    .dataframe tbody tr th {\n",
       "        vertical-align: top;\n",
       "    }\n",
       "\n",
       "    .dataframe thead th {\n",
       "        text-align: right;\n",
       "    }\n",
       "</style>\n",
       "<table border=\"1\" class=\"dataframe\">\n",
       "  <thead>\n",
       "    <tr style=\"text-align: right;\">\n",
       "      <th></th>\n",
       "      <th>Date</th>\n",
       "      <th>GLD</th>\n",
       "      <th>SPY</th>\n",
       "      <th>TIP</th>\n",
       "      <th>VNQ</th>\n",
       "    </tr>\n",
       "  </thead>\n",
       "  <tbody>\n",
       "    <tr>\n",
       "      <th>0</th>\n",
       "      <td>2018-12-31</td>\n",
       "      <td>121.250000</td>\n",
       "      <td>249.919998</td>\n",
       "      <td>109.510002</td>\n",
       "      <td>74.570000</td>\n",
       "    </tr>\n",
       "    <tr>\n",
       "      <th>1</th>\n",
       "      <td>2019-01-02</td>\n",
       "      <td>121.330002</td>\n",
       "      <td>250.179993</td>\n",
       "      <td>109.680000</td>\n",
       "      <td>72.949997</td>\n",
       "    </tr>\n",
       "    <tr>\n",
       "      <th>2</th>\n",
       "      <td>2019-01-03</td>\n",
       "      <td>122.430000</td>\n",
       "      <td>244.210007</td>\n",
       "      <td>110.320000</td>\n",
       "      <td>73.459999</td>\n",
       "    </tr>\n",
       "    <tr>\n",
       "      <th>3</th>\n",
       "      <td>2019-01-04</td>\n",
       "      <td>121.440002</td>\n",
       "      <td>252.389999</td>\n",
       "      <td>110.089996</td>\n",
       "      <td>74.320000</td>\n",
       "    </tr>\n",
       "    <tr>\n",
       "      <th>4</th>\n",
       "      <td>2019-01-07</td>\n",
       "      <td>121.860001</td>\n",
       "      <td>254.380005</td>\n",
       "      <td>110.019997</td>\n",
       "      <td>75.050003</td>\n",
       "    </tr>\n",
       "  </tbody>\n",
       "</table>\n",
       "</div>"
      ],
      "text/plain": [
       "        Date         GLD         SPY         TIP        VNQ\n",
       "0 2018-12-31  121.250000  249.919998  109.510002  74.570000\n",
       "1 2019-01-02  121.330002  250.179993  109.680000  72.949997\n",
       "2 2019-01-03  122.430000  244.210007  110.320000  73.459999\n",
       "3 2019-01-04  121.440002  252.389999  110.089996  74.320000\n",
       "4 2019-01-07  121.860001  254.380005  110.019997  75.050003"
      ]
     },
     "execution_count": 2,
     "metadata": {},
     "output_type": "execute_result"
    }
   ],
   "source": [
    "# get price data from yfinance \n",
    "asset_equity = ['SPY']\n",
    "asset_fixed_income = ['TIP']\n",
    "asset_commodities = ['GLD']\n",
    "asset_reits = ['VNQ']\n",
    "# asset_crypto = ['BTC-USD']\n",
    "\n",
    "all_asset = asset_equity + asset_fixed_income + asset_commodities + asset_reits\n",
    "data = yf.download(tickers = all_asset, start = '2019-01-01', end = '2022-01-01', interval = '1d')['Close'].reset_index()\n",
    "data = data.dropna()\n",
    "data.head()"
   ]
  },
  {
   "cell_type": "code",
   "execution_count": 3,
   "id": "6150d32a",
   "metadata": {},
   "outputs": [],
   "source": [
    "data.to_csv(\"asset_prices.csv\")"
   ]
  },
  {
   "cell_type": "code",
   "execution_count": 4,
   "id": "c4b04538",
   "metadata": {},
   "outputs": [
    {
     "data": {
      "text/html": [
       "<div>\n",
       "<style scoped>\n",
       "    .dataframe tbody tr th:only-of-type {\n",
       "        vertical-align: middle;\n",
       "    }\n",
       "\n",
       "    .dataframe tbody tr th {\n",
       "        vertical-align: top;\n",
       "    }\n",
       "\n",
       "    .dataframe thead th {\n",
       "        text-align: right;\n",
       "    }\n",
       "</style>\n",
       "<table border=\"1\" class=\"dataframe\">\n",
       "  <thead>\n",
       "    <tr style=\"text-align: right;\">\n",
       "      <th></th>\n",
       "      <th>SPY_return</th>\n",
       "      <th>TIP_return</th>\n",
       "      <th>GLD_return</th>\n",
       "      <th>VNQ_return</th>\n",
       "    </tr>\n",
       "  </thead>\n",
       "  <tbody>\n",
       "    <tr>\n",
       "      <th>0</th>\n",
       "      <td>0.001040</td>\n",
       "      <td>0.001551</td>\n",
       "      <td>0.000660</td>\n",
       "      <td>-0.021964</td>\n",
       "    </tr>\n",
       "    <tr>\n",
       "      <th>1</th>\n",
       "      <td>-0.024152</td>\n",
       "      <td>0.005818</td>\n",
       "      <td>0.009025</td>\n",
       "      <td>0.006967</td>\n",
       "    </tr>\n",
       "    <tr>\n",
       "      <th>2</th>\n",
       "      <td>0.032947</td>\n",
       "      <td>-0.002087</td>\n",
       "      <td>-0.008119</td>\n",
       "      <td>0.011639</td>\n",
       "    </tr>\n",
       "    <tr>\n",
       "      <th>3</th>\n",
       "      <td>0.007854</td>\n",
       "      <td>-0.000636</td>\n",
       "      <td>0.003453</td>\n",
       "      <td>0.009775</td>\n",
       "    </tr>\n",
       "    <tr>\n",
       "      <th>4</th>\n",
       "      <td>0.009351</td>\n",
       "      <td>0.000818</td>\n",
       "      <td>-0.002712</td>\n",
       "      <td>0.020442</td>\n",
       "    </tr>\n",
       "  </tbody>\n",
       "</table>\n",
       "</div>"
      ],
      "text/plain": [
       "   SPY_return  TIP_return  GLD_return  VNQ_return\n",
       "0    0.001040    0.001551    0.000660   -0.021964\n",
       "1   -0.024152    0.005818    0.009025    0.006967\n",
       "2    0.032947   -0.002087   -0.008119    0.011639\n",
       "3    0.007854   -0.000636    0.003453    0.009775\n",
       "4    0.009351    0.000818   -0.002712    0.020442"
      ]
     },
     "execution_count": 4,
     "metadata": {},
     "output_type": "execute_result"
    }
   ],
   "source": [
    "# calculate log return \n",
    "for asset in all_asset:\n",
    "    data[asset + '_return'] = data[asset].pct_change().apply(lambda x: np.log(1 + x))\n",
    "columns = [asset + '_return' for asset in all_asset]\n",
    "returns = data.dropna()[columns].reset_index(drop=True)\n",
    "returns.head()"
   ]
  },
  {
   "cell_type": "code",
   "execution_count": 5,
   "id": "bd0a7ef7",
   "metadata": {},
   "outputs": [
    {
     "data": {
      "text/html": [
       "<div>\n",
       "<style scoped>\n",
       "    .dataframe tbody tr th:only-of-type {\n",
       "        vertical-align: middle;\n",
       "    }\n",
       "\n",
       "    .dataframe tbody tr th {\n",
       "        vertical-align: top;\n",
       "    }\n",
       "\n",
       "    .dataframe thead th {\n",
       "        text-align: right;\n",
       "    }\n",
       "</style>\n",
       "<table border=\"1\" class=\"dataframe\">\n",
       "  <thead>\n",
       "    <tr style=\"text-align: right;\">\n",
       "      <th></th>\n",
       "      <th>SPY_return</th>\n",
       "      <th>TIP_return</th>\n",
       "      <th>GLD_return</th>\n",
       "      <th>VNQ_return</th>\n",
       "    </tr>\n",
       "  </thead>\n",
       "  <tbody>\n",
       "    <tr>\n",
       "      <th>count</th>\n",
       "      <td>757.000000</td>\n",
       "      <td>757.000000</td>\n",
       "      <td>757.000000</td>\n",
       "      <td>757.000000</td>\n",
       "    </tr>\n",
       "    <tr>\n",
       "      <th>mean</th>\n",
       "      <td>0.000848</td>\n",
       "      <td>0.000218</td>\n",
       "      <td>0.000454</td>\n",
       "      <td>0.000584</td>\n",
       "    </tr>\n",
       "    <tr>\n",
       "      <th>std</th>\n",
       "      <td>0.013940</td>\n",
       "      <td>0.003911</td>\n",
       "      <td>0.009661</td>\n",
       "      <td>0.017005</td>\n",
       "    </tr>\n",
       "    <tr>\n",
       "      <th>min</th>\n",
       "      <td>-0.115887</td>\n",
       "      <td>-0.029081</td>\n",
       "      <td>-0.055190</td>\n",
       "      <td>-0.195136</td>\n",
       "    </tr>\n",
       "    <tr>\n",
       "      <th>25%</th>\n",
       "      <td>-0.003629</td>\n",
       "      <td>-0.001485</td>\n",
       "      <td>-0.004143</td>\n",
       "      <td>-0.005237</td>\n",
       "    </tr>\n",
       "    <tr>\n",
       "      <th>50%</th>\n",
       "      <td>0.001547</td>\n",
       "      <td>0.000388</td>\n",
       "      <td>0.000912</td>\n",
       "      <td>0.001613</td>\n",
       "    </tr>\n",
       "    <tr>\n",
       "      <th>75%</th>\n",
       "      <td>0.007086</td>\n",
       "      <td>0.001943</td>\n",
       "      <td>0.005628</td>\n",
       "      <td>0.007288</td>\n",
       "    </tr>\n",
       "    <tr>\n",
       "      <th>max</th>\n",
       "      <td>0.086731</td>\n",
       "      <td>0.043573</td>\n",
       "      <td>0.047390</td>\n",
       "      <td>0.086147</td>\n",
       "    </tr>\n",
       "  </tbody>\n",
       "</table>\n",
       "</div>"
      ],
      "text/plain": [
       "       SPY_return  TIP_return  GLD_return  VNQ_return\n",
       "count  757.000000  757.000000  757.000000  757.000000\n",
       "mean     0.000848    0.000218    0.000454    0.000584\n",
       "std      0.013940    0.003911    0.009661    0.017005\n",
       "min     -0.115887   -0.029081   -0.055190   -0.195136\n",
       "25%     -0.003629   -0.001485   -0.004143   -0.005237\n",
       "50%      0.001547    0.000388    0.000912    0.001613\n",
       "75%      0.007086    0.001943    0.005628    0.007288\n",
       "max      0.086731    0.043573    0.047390    0.086147"
      ]
     },
     "execution_count": 5,
     "metadata": {},
     "output_type": "execute_result"
    }
   ],
   "source": [
    "returns.describe()"
   ]
  },
  {
   "cell_type": "code",
   "execution_count": 6,
   "id": "fd5e836f",
   "metadata": {},
   "outputs": [
    {
     "data": {
      "image/png": "[encoded data removed]",
      "text/plain": [
       "<Figure size 2500x400 with 5 Axes>"
      ]
     },
     "metadata": {},
     "output_type": "display_data"
    }
   ],
   "source": [
    "# plot the histogram and visualize the distribution \n",
    "returns.hist(column=returns.columns, bins=20, figsize=(25,4), sharex='True', sharey=True, layout=(1,5), )\n",
    "plt.show()"
   ]
  },
  {
   "cell_type": "code",
   "execution_count": 7,
   "id": "4fdfcb85",
   "metadata": {},
   "outputs": [
    {
     "data": {
      "image/png": "[encoded data removed]",
      "text/plain": [
       "<Figure size 2000x500 with 3 Axes>"
      ]
     },
     "metadata": {},
     "output_type": "display_data"
    }
   ],
   "source": [
    "fig, (ax1, ax2) = plt.subplots(1, 2, figsize=(20, 5))\n",
    "\n",
    "expected_annual_return = returns.mean()*252\n",
    "expected_annual_return.plot(kind='bar', ax = ax1, title='Expected annual return')\n",
    "\n",
    "sns.heatmap(returns.corr(),annot=True, vmin=-1, vmax=1, cmap='PiYG', ax= ax2)\n",
    "plt.show()"
   ]
  },
  {
   "cell_type": "markdown",
   "id": "9b67f8d1",
   "metadata": {},
   "source": [
    "### Optimization "
   ]
  },
  {
   "cell_type": "code",
   "execution_count": 8,
   "id": "f7cf10ca",
   "metadata": {},
   "outputs": [],
   "source": [
    "model = ConcreteModel(\"Multiobjective Optimization\")"
   ]
  },
  {
   "cell_type": "markdown",
   "id": "f0934e2b",
   "metadata": {},
   "source": [
    "#### Sets"
   ]
  },
  {
   "cell_type": "code",
   "execution_count": 9,
   "id": "6d37aa8d",
   "metadata": {},
   "outputs": [
    {
     "name": "stdout",
     "output_type": "stream",
     "text": [
      "i : selection ratio\n",
      "    Size=1, Index=None, Ordered=Insertion\n",
      "    Key  : Dimen : Domain : Size : Members\n",
      "    None :     1 :    Any :    4 : {'SPY', 'TIP', 'GLD', 'VNQ'}\n"
     ]
    }
   ],
   "source": [
    "model.i = Set(initialize=all_asset, doc='selection ratio')\n",
    "model.i.pprint()"
   ]
  },
  {
   "cell_type": "markdown",
   "id": "2e5d86be",
   "metadata": {},
   "source": [
    "#### Decision variable"
   ]
  },
  {
   "cell_type": "code",
   "execution_count": 10,
   "id": "cec53dd8",
   "metadata": {
    "scrolled": true
   },
   "outputs": [
    {
     "name": "stdout",
     "output_type": "stream",
     "text": [
      "X : Size=4, Index=i\n",
      "    Key : Lower : Value : Upper : Fixed : Stale : Domain\n",
      "    GLD :     0 :  None :     1 : False :  True :  Reals\n",
      "    SPY :     0 :  None :     1 : False :  True :  Reals\n",
      "    TIP :     0 :  None :     1 : False :  True :  Reals\n",
      "    VNQ :     0 :  None :     1 : False :  True :  Reals\n"
     ]
    }
   ],
   "source": [
    "model.X=Var(model.i, bounds=(0,1))\n",
    "model.X.pprint()"
   ]
  },
  {
   "cell_type": "markdown",
   "id": "93776671",
   "metadata": {},
   "source": [
    "#### Parameters"
   ]
  },
  {
   "cell_type": "code",
   "execution_count": 11,
   "id": "f2dfa7ce",
   "metadata": {},
   "outputs": [
    {
     "name": "stdout",
     "output_type": "stream",
     "text": [
      "r : expected annual return\n",
      "    Size=4, Index=i, Domain=Any, Default=None, Mutable=False\n",
      "    Key : Value\n",
      "    GLD :  0.11437375212304715\n",
      "    SPY :   0.2137471698639397\n",
      "    TIP : 0.055042418878702225\n",
      "    VNQ :   0.1471181110700744\n"
     ]
    }
   ],
   "source": [
    "# expected annual return\n",
    "expected_annual_return_dict = dict(zip(all_asset, expected_annual_return))\n",
    "model.r = Param(model.i, initialize=lambda model, i: expected_annual_return_dict[i], doc = 'expected annual return')\n",
    "model.r.pprint()"
   ]
  },
  {
   "cell_type": "code",
   "execution_count": 12,
   "id": "692cd7d5",
   "metadata": {},
   "outputs": [
    {
     "name": "stdout",
     "output_type": "stream",
     "text": [
      "cov : covariance matrix\n",
      "    Size=16, Index=cov_index, Domain=Any, Default=None, Mutable=False\n",
      "    Key            : Value\n",
      "    ('GLD', 'GLD') :  9.333553584829427e-05\n",
      "    ('GLD', 'SPY') : 1.2441370910748731e-05\n",
      "    ('GLD', 'TIP') : 1.2788410431952524e-05\n",
      "    ('GLD', 'VNQ') : 2.2900604230531085e-05\n",
      "    ('SPY', 'GLD') : 1.2441370910748731e-05\n",
      "    ('SPY', 'SPY') : 0.00019432016971336093\n",
      "    ('SPY', 'TIP') : -2.118673906688453e-06\n",
      "    ('SPY', 'VNQ') : 0.00019475034405293942\n",
      "    ('TIP', 'GLD') : 1.2788410431952524e-05\n",
      "    ('TIP', 'SPY') : -2.118673906688453e-06\n",
      "    ('TIP', 'TIP') : 1.5293906509298986e-05\n",
      "    ('TIP', 'VNQ') :  2.748120118790737e-06\n",
      "    ('VNQ', 'GLD') : 2.2900604230531085e-05\n",
      "    ('VNQ', 'SPY') : 0.00019475034405293942\n",
      "    ('VNQ', 'TIP') :  2.748120118790737e-06\n",
      "    ('VNQ', 'VNQ') : 0.00028918599611488753\n"
     ]
    }
   ],
   "source": [
    "# covariance \n",
    "cov = returns.cov().values\n",
    "\n",
    "def get_covariance(model, i, j):\n",
    "    return cov[all_asset.index(i)][all_asset.index(j)]\n",
    "\n",
    "model.cov = Param(model.i, model.i, rule = get_covariance, doc='covariance matrix')\n",
    "model.cov.pprint()"
   ]
  },
  {
   "cell_type": "code",
   "execution_count": 13,
   "id": "1918aba4",
   "metadata": {},
   "outputs": [
    {
     "name": "stdout",
     "output_type": "stream",
     "text": [
      "e : Size=1, Index=None, Domain=Any, Default=None, Mutable=True\n",
      "    Key  : Value\n",
      "    None :   1.0\n"
     ]
    }
   ],
   "source": [
    "# epsilon-constraint\n",
    "model.e = Param(initialize=1.0, mutable=True)\n",
    "model.e.pprint()"
   ]
  },
  {
   "cell_type": "markdown",
   "id": "988e4a93",
   "metadata": {},
   "source": [
    "#### Constraints"
   ]
  },
  {
   "cell_type": "code",
   "execution_count": 14,
   "id": "ebaad521",
   "metadata": {},
   "outputs": [
    {
     "name": "stdout",
     "output_type": "stream",
     "text": [
      "C1 : Size=1, Index=None, Active=True\n",
      "    Key  : Lower : Body                              : Upper : Active\n",
      "    None :   1.0 : X[SPY] + X[TIP] + X[GLD] + X[VNQ] :   1.0 :   True\n"
     ]
    }
   ],
   "source": [
    "# sum of all porfolio ratio = 1\n",
    "model.C1 = Constraint(expr = sum(model.X[i] for i in model.i) == 1)\n",
    "model.C1.pprint()"
   ]
  },
  {
   "cell_type": "code",
   "execution_count": 15,
   "id": "a3bed561",
   "metadata": {},
   "outputs": [
    {
     "name": "stdout",
     "output_type": "stream",
     "text": [
      "C2 : risk upper bounded by epsilon\n",
      "    Size=1, Index=None, Active=True\n",
      "    Key  : Lower : Body                                                                                                                                                                                                                                                                                                                                                                                                                                                                                                                                                                                                                                       : Upper : Active\n",
      "    None :  -Inf : X[SPY]*X[SPY]*0.00019432016971336093 + X[SPY]*X[TIP]*-2.118673906688453e-06 + X[SPY]*X[GLD]*1.2441370910748731e-05 + X[SPY]*X[VNQ]*0.00019475034405293942 + X[TIP]*X[SPY]*-2.118673906688453e-06 + X[TIP]*X[TIP]*1.5293906509298986e-05 + X[TIP]*X[GLD]*1.2788410431952524e-05 + X[TIP]*X[VNQ]*2.748120118790737e-06 + X[GLD]*X[SPY]*1.2441370910748731e-05 + X[GLD]*X[TIP]*1.2788410431952524e-05 + X[GLD]*X[GLD]*9.333553584829427e-05 + X[GLD]*X[VNQ]*2.2900604230531085e-05 + X[VNQ]*X[SPY]*0.00019475034405293942 + X[VNQ]*X[TIP]*2.748120118790737e-06 + X[VNQ]*X[GLD]*2.2900604230531085e-05 + X[VNQ]*X[VNQ]*0.00028918599611488753 :     e :   True\n"
     ]
    }
   ],
   "source": [
    "# risk <= epsilon constraint\n",
    "model.C2 = Constraint(expr = sum([model.X[i]*model.X[j]*model.cov[i,j] for i in model.i for j in model.i]) <= model.e, doc='risk upper bounded by epsilon')\n",
    "model.C2.pprint()"
   ]
  },
  {
   "cell_type": "markdown",
   "id": "664571e6",
   "metadata": {},
   "source": [
    "#### Objective functions"
   ]
  },
  {
   "cell_type": "code",
   "execution_count": 16,
   "id": "1134f802",
   "metadata": {},
   "outputs": [
    {
     "name": "stdout",
     "output_type": "stream",
     "text": [
      "obj1 : Size=1, Index=None, Active=True\n",
      "    Key  : Active : Sense    : Expression\n",
      "    None :   True : maximize : 0.2137471698639397*X[SPY] + 0.055042418878702225*X[TIP] + 0.11437375212304715*X[GLD] + 0.1471181110700744*X[VNQ]\n"
     ]
    }
   ],
   "source": [
    "# objective 1 : maximize return\n",
    "model.obj1 = Objective(expr = sum(model.X[i]*model.r[i] for i in model.i), sense=maximize)\n",
    "model.obj1.pprint()"
   ]
  },
  {
   "cell_type": "code",
   "execution_count": 17,
   "id": "e31c8acc",
   "metadata": {},
   "outputs": [
    {
     "name": "stdout",
     "output_type": "stream",
     "text": [
      "obj2 : Size=1, Index=None, Active=True\n",
      "    Key  : Active : Sense    : Expression\n",
      "    None :   True : minimize : X[SPY]*X[SPY]*0.00019432016971336093 + X[SPY]*X[TIP]*-2.118673906688453e-06 + X[SPY]*X[GLD]*1.2441370910748731e-05 + X[SPY]*X[VNQ]*0.00019475034405293942 + X[TIP]*X[SPY]*-2.118673906688453e-06 + X[TIP]*X[TIP]*1.5293906509298986e-05 + X[TIP]*X[GLD]*1.2788410431952524e-05 + X[TIP]*X[VNQ]*2.748120118790737e-06 + X[GLD]*X[SPY]*1.2441370910748731e-05 + X[GLD]*X[TIP]*1.2788410431952524e-05 + X[GLD]*X[GLD]*9.333553584829427e-05 + X[GLD]*X[VNQ]*2.2900604230531085e-05 + X[VNQ]*X[SPY]*0.00019475034405293942 + X[VNQ]*X[TIP]*2.748120118790737e-06 + X[VNQ]*X[GLD]*2.2900604230531085e-05 + X[VNQ]*X[VNQ]*0.00028918599611488753\n"
     ]
    }
   ],
   "source": [
    "# objective 2 : minimize risk \n",
    "model.obj2 = Objective(expr = sum([model.X[i]*model.X[j]*model.cov[i,j] for i in model.i for j in model.i]), sense=minimize)\n",
    "model.obj2.pprint()"
   ]
  },
  {
   "cell_type": "markdown",
   "id": "64e18706",
   "metadata": {},
   "source": [
    "#### Solve objective 1: maximize return "
   ]
  },
  {
   "cell_type": "code",
   "execution_count": 18,
   "id": "f83b792b",
   "metadata": {},
   "outputs": [
    {
     "name": "stdout",
     "output_type": "stream",
     "text": [
      "# ==========================================================\n",
      "# = Solver Results                                         =\n",
      "# ==========================================================\n",
      "# ----------------------------------------------------------\n",
      "#   Problem Information\n",
      "# ----------------------------------------------------------\n",
      "Problem: \n",
      "- Lower bound: -inf\n",
      "  Upper bound: inf\n",
      "  Number of objectives: 1\n",
      "  Number of constraints: 1\n",
      "  Number of variables: 4\n",
      "  Sense: unknown\n",
      "# ----------------------------------------------------------\n",
      "#   Solver Information\n",
      "# ----------------------------------------------------------\n",
      "Solver: \n",
      "- Status: ok\n",
      "  Message: Ipopt 3.14.3\\x3a Optimal Solution Found\n",
      "  Termination condition: optimal\n",
      "  Id: 0\n",
      "  Error rc: 0\n",
      "  Time: 0.1548161506652832\n",
      "# ----------------------------------------------------------\n",
      "#   Solution Information\n",
      "# ----------------------------------------------------------\n",
      "Solution: \n",
      "- number of solutions: 0\n",
      "  number of solutions displayed: 0\n"
     ]
    }
   ],
   "source": [
    "# deactivate objective 2 and constraint 2\n",
    "model.obj2.deactivate()\n",
    "model.C2.deactivate()\n",
    "SolverFactory('ipopt').solve(model).write()"
   ]
  },
  {
   "cell_type": "code",
   "execution_count": 19,
   "id": "6a8b3486",
   "metadata": {},
   "outputs": [
    {
     "name": "stdout",
     "output_type": "stream",
     "text": [
      "Solution: [1, 0, 0, 0]\n",
      "Objective value 1: expected annual return of 21.37%\n",
      "Objective value 2: expected risk 0.000194\n"
     ]
    }
   ],
   "source": [
    "max_risk = value(model.obj2)\n",
    "print(\"Solution:\", [round(model.X[i](3)) for i in model.X])\n",
    "print(f\"Objective value 1: expected annual return of {round(model.obj1()*100, 2)}%\")\n",
    "print(f\"Objective value 2: expected risk {round(model.obj2(), 6)}\")"
   ]
  },
  {
   "cell_type": "markdown",
   "id": "1f4e158c",
   "metadata": {},
   "source": [
    "#### Solve objective 2: minimize risk "
   ]
  },
  {
   "cell_type": "code",
   "execution_count": 20,
   "id": "27bd8d87",
   "metadata": {},
   "outputs": [
    {
     "name": "stdout",
     "output_type": "stream",
     "text": [
      "# ==========================================================\n",
      "# = Solver Results                                         =\n",
      "# ==========================================================\n",
      "# ----------------------------------------------------------\n",
      "#   Problem Information\n",
      "# ----------------------------------------------------------\n",
      "Problem: \n",
      "- Lower bound: -inf\n",
      "  Upper bound: inf\n",
      "  Number of objectives: 1\n",
      "  Number of constraints: 1\n",
      "  Number of variables: 4\n",
      "  Sense: unknown\n",
      "# ----------------------------------------------------------\n",
      "#   Solver Information\n",
      "# ----------------------------------------------------------\n",
      "Solver: \n",
      "- Status: ok\n",
      "  Message: Ipopt 3.14.3\\x3a Optimal Solution Found\n",
      "  Termination condition: optimal\n",
      "  Id: 0\n",
      "  Error rc: 0\n",
      "  Time: 0.13362979888916016\n",
      "# ----------------------------------------------------------\n",
      "#   Solution Information\n",
      "# ----------------------------------------------------------\n",
      "Solution: \n",
      "- number of solutions: 0\n",
      "  number of solutions displayed: 0\n"
     ]
    }
   ],
   "source": [
    "# deactivate objective 2 and constraint 2\n",
    "model.obj2.activate()\n",
    "model.obj1.deactivate()\n",
    "model.C2.deactivate()\n",
    "SolverFactory('ipopt').solve(model).write()"
   ]
  },
  {
   "cell_type": "code",
   "execution_count": 21,
   "id": "51a3d4cb",
   "metadata": {},
   "outputs": [
    {
     "name": "stdout",
     "output_type": "stream",
     "text": [
      "Solution: [0, 1, 0, 0]\n",
      "Objective value 1: expected annual return of 6.86%\n",
      "Objective value 2: expected risk 1.4e-05\n"
     ]
    }
   ],
   "source": [
    "min_risk = value(model.obj2)\n",
    "print(\"Solution:\", [round(model.X[i](3)) for i in model.X])\n",
    "print(f\"Objective value 1: expected annual return of {round(model.obj1()*100, 2)}%\")\n",
    "print(f\"Objective value 2: expected risk {round(model.obj2(), 6)}\")"
   ]
  },
  {
   "cell_type": "markdown",
   "id": "a187f5bc",
   "metadata": {},
   "source": [
    "#### Epsilon constraint method"
   ]
  },
  {
   "cell_type": "code",
   "execution_count": 22,
   "id": "ddb0dca4",
   "metadata": {},
   "outputs": [
    {
     "name": "stdout",
     "output_type": "stream",
     "text": [
      "Maximum risk level at 0.000194 and minimum risk level at 1.4e-05.\n"
     ]
    }
   ],
   "source": [
    "print(f'Maximum risk level at {round(max_risk, 6)} and minimum risk level at {round(min_risk, 6)}.')"
   ]
  },
  {
   "cell_type": "code",
   "execution_count": 23,
   "id": "205e8664",
   "metadata": {},
   "outputs": [
    {
     "name": "stdout",
     "output_type": "stream",
     "text": [
      "[1.38620085e-05 1.75448278e-05 2.12276472e-05 2.49104665e-05\n",
      " 2.85932858e-05 3.22761052e-05 3.59589245e-05 3.96417439e-05\n",
      " 4.33245632e-05 4.70073825e-05 5.06902019e-05 5.43730212e-05\n",
      " 5.80558405e-05 6.17386599e-05 6.54214792e-05 6.91042985e-05\n",
      " 7.27871179e-05 7.64699372e-05 8.01527565e-05 8.38355759e-05\n",
      " 8.75183952e-05 9.12012146e-05 9.48840339e-05 9.85668532e-05\n",
      " 1.02249673e-04 1.05932492e-04 1.09615311e-04 1.13298131e-04\n",
      " 1.16980950e-04 1.20663769e-04 1.24346589e-04 1.28029408e-04\n",
      " 1.31712227e-04 1.35395047e-04 1.39077866e-04 1.42760685e-04\n",
      " 1.46443505e-04 1.50126324e-04 1.53809143e-04 1.57491963e-04\n",
      " 1.61174782e-04 1.64857601e-04 1.68540421e-04 1.72223240e-04\n",
      " 1.75906059e-04 1.79588879e-04 1.83271698e-04 1.86954517e-04\n",
      " 1.90637337e-04 1.94320156e-04]\n"
     ]
    }
   ],
   "source": [
    "e_constraints = np.linspace(min_risk, max_risk, 50)\n",
    "print(e_constraints)"
   ]
  },
  {
   "cell_type": "code",
   "execution_count": 24,
   "id": "ca0fe89e",
   "metadata": {},
   "outputs": [],
   "source": [
    "# fix objective 2(risk) as constraint \n",
    "# in every iteration, increase the upper bound of risk (epsilon)\n",
    "# store the results of each iteration \n",
    "model.obj2.deactivate()\n",
    "model.obj1.activate()\n",
    "model.C2.activate()\n",
    "\n",
    "solutions = []\n",
    "obj1 = []\n",
    "obj2 = []\n",
    "for e in e_constraints: \n",
    "    model.e = e\n",
    "    SolverFactory('ipopt').solve(model)\n",
    "    solutions.append([model.X[i]() for i in model.X])\n",
    "    obj1.append(value(model.obj1))\n",
    "    obj2.append(value(model.obj2))"
   ]
  },
  {
   "cell_type": "markdown",
   "id": "9fc17ce0",
   "metadata": {},
   "source": [
    "#### Plot efficient frontier "
   ]
  },
  {
   "cell_type": "code",
   "execution_count": 25,
   "id": "71f8ebaf",
   "metadata": {},
   "outputs": [],
   "source": [
    "# create random portfolios\n",
    "random_portfolio = np.random.random((500, 4))\n",
    "sum = random_portfolio.sum(axis=1)\n",
    "for i in range(len(random_portfolio)):\n",
    "    for j in range(len(random_portfolio[0])):\n",
    "        random_portfolio[i][j] = random_portfolio[i][j]/sum[i]\n",
    "\n",
    "random_return = np.sum([[random_portfolio[i][j]*expected_annual_return[j] for j in range(0, len(all_asset))] for i in range(len(random_portfolio))], axis=1)\n",
    "\n",
    "random_risk = []\n",
    "for portfolio in random_portfolio:\n",
    "    risk = np.sum([portfolio[i]*portfolio[j]*cov[i,j] for i in range(len(all_asset)) for j in range(len(all_asset))])\n",
    "    random_risk.append(risk)"
   ]
  },
  {
   "cell_type": "code",
   "execution_count": 26,
   "id": "9111e8c5",
   "metadata": {},
   "outputs": [
    {
     "data": {
      "image/png": "[encoded data removed]",
      "text/plain": [
       "<Figure size 800x600 with 1 Axes>"
      ]
     },
     "metadata": {},
     "output_type": "display_data"
    }
   ],
   "source": [
    "# plot efficient frontier\n",
    "fig, ax = plt.subplots(figsize = (8, 6))\n",
    "plt.scatter(random_return, random_risk, marker = '.', color = 'r', label='random portfolio')\n",
    "plt.plot(obj1, obj2, marker = '*', label='efficient frontier')\n",
    "plt.xlabel('expected annual return')\n",
    "plt.ylabel('expected risk')\n",
    "plt.title('Efficient frontier')\n",
    "plt.legend()\n",
    "plt.show()"
   ]
  },
  {
   "cell_type": "code",
   "execution_count": 27,
   "id": "0a36ec34",
   "metadata": {},
   "outputs": [
    {
     "data": {
      "text/html": [
       "<div>\n",
       "<style scoped>\n",
       "    .dataframe tbody tr th:only-of-type {\n",
       "        vertical-align: middle;\n",
       "    }\n",
       "\n",
       "    .dataframe tbody tr th {\n",
       "        vertical-align: top;\n",
       "    }\n",
       "\n",
       "    .dataframe thead th {\n",
       "        text-align: right;\n",
       "    }\n",
       "</style>\n",
       "<table border=\"1\" class=\"dataframe\">\n",
       "  <thead>\n",
       "    <tr style=\"text-align: right;\">\n",
       "      <th></th>\n",
       "      <th>SPY</th>\n",
       "      <th>TIP</th>\n",
       "      <th>GLD</th>\n",
       "      <th>VNQ</th>\n",
       "      <th>expected annual return</th>\n",
       "      <th>expected risk</th>\n",
       "    </tr>\n",
       "  </thead>\n",
       "  <tbody>\n",
       "    <tr>\n",
       "      <th>0</th>\n",
       "      <td>0.086</td>\n",
       "      <td>8.949e-01</td>\n",
       "      <td>1.868e-02</td>\n",
       "      <td>-8.719e-09</td>\n",
       "      <td>0.070</td>\n",
       "      <td>1.387e-05</td>\n",
       "    </tr>\n",
       "    <tr>\n",
       "      <th>1</th>\n",
       "      <td>0.192</td>\n",
       "      <td>7.033e-01</td>\n",
       "      <td>1.050e-01</td>\n",
       "      <td>2.197e-08</td>\n",
       "      <td>0.092</td>\n",
       "      <td>1.755e-05</td>\n",
       "    </tr>\n",
       "    <tr>\n",
       "      <th>2</th>\n",
       "      <td>0.238</td>\n",
       "      <td>6.195e-01</td>\n",
       "      <td>1.428e-01</td>\n",
       "      <td>2.361e-08</td>\n",
       "      <td>0.101</td>\n",
       "      <td>2.124e-05</td>\n",
       "    </tr>\n",
       "    <tr>\n",
       "      <th>3</th>\n",
       "      <td>0.273</td>\n",
       "      <td>5.552e-01</td>\n",
       "      <td>1.717e-01</td>\n",
       "      <td>2.725e-08</td>\n",
       "      <td>0.109</td>\n",
       "      <td>2.492e-05</td>\n",
       "    </tr>\n",
       "    <tr>\n",
       "      <th>4</th>\n",
       "      <td>0.303</td>\n",
       "      <td>5.010e-01</td>\n",
       "      <td>1.962e-01</td>\n",
       "      <td>2.704e-08</td>\n",
       "      <td>0.115</td>\n",
       "      <td>2.860e-05</td>\n",
       "    </tr>\n",
       "    <tr>\n",
       "      <th>5</th>\n",
       "      <td>0.329</td>\n",
       "      <td>4.532e-01</td>\n",
       "      <td>2.177e-01</td>\n",
       "      <td>2.683e-08</td>\n",
       "      <td>0.120</td>\n",
       "      <td>3.229e-05</td>\n",
       "    </tr>\n",
       "    <tr>\n",
       "      <th>6</th>\n",
       "      <td>0.353</td>\n",
       "      <td>4.100e-01</td>\n",
       "      <td>2.372e-01</td>\n",
       "      <td>2.665e-08</td>\n",
       "      <td>0.125</td>\n",
       "      <td>3.597e-05</td>\n",
       "    </tr>\n",
       "    <tr>\n",
       "      <th>7</th>\n",
       "      <td>0.375</td>\n",
       "      <td>3.703e-01</td>\n",
       "      <td>2.551e-01</td>\n",
       "      <td>2.649e-08</td>\n",
       "      <td>0.130</td>\n",
       "      <td>3.965e-05</td>\n",
       "    </tr>\n",
       "    <tr>\n",
       "      <th>8</th>\n",
       "      <td>0.395</td>\n",
       "      <td>3.333e-01</td>\n",
       "      <td>2.717e-01</td>\n",
       "      <td>2.633e-08</td>\n",
       "      <td>0.134</td>\n",
       "      <td>4.333e-05</td>\n",
       "    </tr>\n",
       "    <tr>\n",
       "      <th>9</th>\n",
       "      <td>0.414</td>\n",
       "      <td>2.986e-01</td>\n",
       "      <td>2.874e-01</td>\n",
       "      <td>2.619e-08</td>\n",
       "      <td>0.138</td>\n",
       "      <td>4.702e-05</td>\n",
       "    </tr>\n",
       "    <tr>\n",
       "      <th>10</th>\n",
       "      <td>0.432</td>\n",
       "      <td>2.657e-01</td>\n",
       "      <td>3.022e-01</td>\n",
       "      <td>2.604e-08</td>\n",
       "      <td>0.142</td>\n",
       "      <td>5.070e-05</td>\n",
       "    </tr>\n",
       "    <tr>\n",
       "      <th>11</th>\n",
       "      <td>0.449</td>\n",
       "      <td>2.345e-01</td>\n",
       "      <td>3.162e-01</td>\n",
       "      <td>2.760e-08</td>\n",
       "      <td>0.145</td>\n",
       "      <td>5.438e-05</td>\n",
       "    </tr>\n",
       "    <tr>\n",
       "      <th>12</th>\n",
       "      <td>0.466</td>\n",
       "      <td>2.046e-01</td>\n",
       "      <td>3.297e-01</td>\n",
       "      <td>2.622e-08</td>\n",
       "      <td>0.149</td>\n",
       "      <td>5.807e-05</td>\n",
       "    </tr>\n",
       "    <tr>\n",
       "      <th>13</th>\n",
       "      <td>0.481</td>\n",
       "      <td>1.760e-01</td>\n",
       "      <td>3.426e-01</td>\n",
       "      <td>2.574e-08</td>\n",
       "      <td>0.152</td>\n",
       "      <td>6.175e-05</td>\n",
       "    </tr>\n",
       "    <tr>\n",
       "      <th>14</th>\n",
       "      <td>0.497</td>\n",
       "      <td>1.485e-01</td>\n",
       "      <td>3.550e-01</td>\n",
       "      <td>2.565e-08</td>\n",
       "      <td>0.155</td>\n",
       "      <td>6.543e-05</td>\n",
       "    </tr>\n",
       "    <tr>\n",
       "      <th>15</th>\n",
       "      <td>0.511</td>\n",
       "      <td>1.219e-01</td>\n",
       "      <td>3.670e-01</td>\n",
       "      <td>2.449e-08</td>\n",
       "      <td>0.158</td>\n",
       "      <td>6.911e-05</td>\n",
       "    </tr>\n",
       "    <tr>\n",
       "      <th>16</th>\n",
       "      <td>0.525</td>\n",
       "      <td>9.616e-02</td>\n",
       "      <td>3.786e-01</td>\n",
       "      <td>2.299e-09</td>\n",
       "      <td>0.161</td>\n",
       "      <td>7.280e-05</td>\n",
       "    </tr>\n",
       "    <tr>\n",
       "      <th>17</th>\n",
       "      <td>0.539</td>\n",
       "      <td>7.124e-02</td>\n",
       "      <td>3.898e-01</td>\n",
       "      <td>2.484e-08</td>\n",
       "      <td>0.164</td>\n",
       "      <td>7.648e-05</td>\n",
       "    </tr>\n",
       "    <tr>\n",
       "      <th>18</th>\n",
       "      <td>0.552</td>\n",
       "      <td>4.705e-02</td>\n",
       "      <td>4.007e-01</td>\n",
       "      <td>2.368e-09</td>\n",
       "      <td>0.166</td>\n",
       "      <td>8.016e-05</td>\n",
       "    </tr>\n",
       "    <tr>\n",
       "      <th>19</th>\n",
       "      <td>0.565</td>\n",
       "      <td>2.351e-02</td>\n",
       "      <td>4.113e-01</td>\n",
       "      <td>2.418e-08</td>\n",
       "      <td>0.169</td>\n",
       "      <td>8.385e-05</td>\n",
       "    </tr>\n",
       "    <tr>\n",
       "      <th>20</th>\n",
       "      <td>0.578</td>\n",
       "      <td>6.161e-04</td>\n",
       "      <td>4.216e-01</td>\n",
       "      <td>2.425e-08</td>\n",
       "      <td>0.172</td>\n",
       "      <td>8.753e-05</td>\n",
       "    </tr>\n",
       "    <tr>\n",
       "      <th>21</th>\n",
       "      <td>0.602</td>\n",
       "      <td>7.391e-07</td>\n",
       "      <td>3.977e-01</td>\n",
       "      <td>2.466e-08</td>\n",
       "      <td>0.174</td>\n",
       "      <td>9.121e-05</td>\n",
       "    </tr>\n",
       "    <tr>\n",
       "      <th>22</th>\n",
       "      <td>0.625</td>\n",
       "      <td>1.905e-07</td>\n",
       "      <td>3.748e-01</td>\n",
       "      <td>2.499e-08</td>\n",
       "      <td>0.177</td>\n",
       "      <td>9.489e-05</td>\n",
       "    </tr>\n",
       "    <tr>\n",
       "      <th>23</th>\n",
       "      <td>0.647</td>\n",
       "      <td>4.029e-07</td>\n",
       "      <td>3.535e-01</td>\n",
       "      <td>2.511e-08</td>\n",
       "      <td>0.179</td>\n",
       "      <td>9.858e-05</td>\n",
       "    </tr>\n",
       "    <tr>\n",
       "      <th>24</th>\n",
       "      <td>0.667</td>\n",
       "      <td>2.066e-07</td>\n",
       "      <td>3.334e-01</td>\n",
       "      <td>2.557e-08</td>\n",
       "      <td>0.181</td>\n",
       "      <td>1.023e-04</td>\n",
       "    </tr>\n",
       "    <tr>\n",
       "      <th>25</th>\n",
       "      <td>0.686</td>\n",
       "      <td>1.500e-07</td>\n",
       "      <td>3.143e-01</td>\n",
       "      <td>2.573e-08</td>\n",
       "      <td>0.183</td>\n",
       "      <td>1.059e-04</td>\n",
       "    </tr>\n",
       "    <tr>\n",
       "      <th>26</th>\n",
       "      <td>0.704</td>\n",
       "      <td>1.229e-07</td>\n",
       "      <td>2.962e-01</td>\n",
       "      <td>2.579e-08</td>\n",
       "      <td>0.184</td>\n",
       "      <td>1.096e-04</td>\n",
       "    </tr>\n",
       "    <tr>\n",
       "      <th>27</th>\n",
       "      <td>0.721</td>\n",
       "      <td>1.067e-07</td>\n",
       "      <td>2.789e-01</td>\n",
       "      <td>2.579e-08</td>\n",
       "      <td>0.186</td>\n",
       "      <td>1.133e-04</td>\n",
       "    </tr>\n",
       "    <tr>\n",
       "      <th>28</th>\n",
       "      <td>0.738</td>\n",
       "      <td>9.591e-08</td>\n",
       "      <td>2.623e-01</td>\n",
       "      <td>2.574e-08</td>\n",
       "      <td>0.188</td>\n",
       "      <td>1.170e-04</td>\n",
       "    </tr>\n",
       "    <tr>\n",
       "      <th>29</th>\n",
       "      <td>0.754</td>\n",
       "      <td>8.819e-08</td>\n",
       "      <td>2.463e-01</td>\n",
       "      <td>2.566e-08</td>\n",
       "      <td>0.189</td>\n",
       "      <td>1.207e-04</td>\n",
       "    </tr>\n",
       "    <tr>\n",
       "      <th>30</th>\n",
       "      <td>0.769</td>\n",
       "      <td>8.244e-08</td>\n",
       "      <td>2.308e-01</td>\n",
       "      <td>2.555e-08</td>\n",
       "      <td>0.191</td>\n",
       "      <td>1.244e-04</td>\n",
       "    </tr>\n",
       "    <tr>\n",
       "      <th>31</th>\n",
       "      <td>0.784</td>\n",
       "      <td>7.804e-08</td>\n",
       "      <td>2.159e-01</td>\n",
       "      <td>2.540e-08</td>\n",
       "      <td>0.192</td>\n",
       "      <td>1.280e-04</td>\n",
       "    </tr>\n",
       "    <tr>\n",
       "      <th>32</th>\n",
       "      <td>0.799</td>\n",
       "      <td>7.459e-08</td>\n",
       "      <td>2.014e-01</td>\n",
       "      <td>2.522e-08</td>\n",
       "      <td>0.194</td>\n",
       "      <td>1.317e-04</td>\n",
       "    </tr>\n",
       "    <tr>\n",
       "      <th>33</th>\n",
       "      <td>0.813</td>\n",
       "      <td>7.188e-08</td>\n",
       "      <td>1.873e-01</td>\n",
       "      <td>2.500e-08</td>\n",
       "      <td>0.195</td>\n",
       "      <td>1.354e-04</td>\n",
       "    </tr>\n",
       "    <tr>\n",
       "      <th>34</th>\n",
       "      <td>0.826</td>\n",
       "      <td>6.975e-08</td>\n",
       "      <td>1.736e-01</td>\n",
       "      <td>2.473e-08</td>\n",
       "      <td>0.196</td>\n",
       "      <td>1.391e-04</td>\n",
       "    </tr>\n",
       "    <tr>\n",
       "      <th>35</th>\n",
       "      <td>0.840</td>\n",
       "      <td>6.811e-08</td>\n",
       "      <td>1.603e-01</td>\n",
       "      <td>2.442e-08</td>\n",
       "      <td>0.198</td>\n",
       "      <td>1.428e-04</td>\n",
       "    </tr>\n",
       "    <tr>\n",
       "      <th>36</th>\n",
       "      <td>0.853</td>\n",
       "      <td>6.689e-08</td>\n",
       "      <td>1.473e-01</td>\n",
       "      <td>2.405e-08</td>\n",
       "      <td>0.199</td>\n",
       "      <td>1.465e-04</td>\n",
       "    </tr>\n",
       "    <tr>\n",
       "      <th>37</th>\n",
       "      <td>0.865</td>\n",
       "      <td>6.605e-08</td>\n",
       "      <td>1.345e-01</td>\n",
       "      <td>2.361e-08</td>\n",
       "      <td>0.200</td>\n",
       "      <td>1.501e-04</td>\n",
       "    </tr>\n",
       "    <tr>\n",
       "      <th>38</th>\n",
       "      <td>0.878</td>\n",
       "      <td>6.560e-08</td>\n",
       "      <td>1.221e-01</td>\n",
       "      <td>2.307e-08</td>\n",
       "      <td>0.202</td>\n",
       "      <td>1.538e-04</td>\n",
       "    </tr>\n",
       "    <tr>\n",
       "      <th>39</th>\n",
       "      <td>0.890</td>\n",
       "      <td>6.554e-08</td>\n",
       "      <td>1.099e-01</td>\n",
       "      <td>2.242e-08</td>\n",
       "      <td>0.203</td>\n",
       "      <td>1.575e-04</td>\n",
       "    </tr>\n",
       "    <tr>\n",
       "      <th>40</th>\n",
       "      <td>0.902</td>\n",
       "      <td>6.595e-08</td>\n",
       "      <td>9.803e-02</td>\n",
       "      <td>2.161e-08</td>\n",
       "      <td>0.204</td>\n",
       "      <td>1.612e-04</td>\n",
       "    </tr>\n",
       "    <tr>\n",
       "      <th>41</th>\n",
       "      <td>0.914</td>\n",
       "      <td>6.688e-08</td>\n",
       "      <td>8.635e-02</td>\n",
       "      <td>2.060e-08</td>\n",
       "      <td>0.205</td>\n",
       "      <td>1.649e-04</td>\n",
       "    </tr>\n",
       "    <tr>\n",
       "      <th>42</th>\n",
       "      <td>0.925</td>\n",
       "      <td>6.846e-08</td>\n",
       "      <td>7.490e-02</td>\n",
       "      <td>1.929e-08</td>\n",
       "      <td>0.206</td>\n",
       "      <td>1.686e-04</td>\n",
       "    </tr>\n",
       "    <tr>\n",
       "      <th>43</th>\n",
       "      <td>0.936</td>\n",
       "      <td>7.109e-08</td>\n",
       "      <td>6.364e-02</td>\n",
       "      <td>1.753e-08</td>\n",
       "      <td>0.207</td>\n",
       "      <td>1.722e-04</td>\n",
       "    </tr>\n",
       "    <tr>\n",
       "      <th>44</th>\n",
       "      <td>0.947</td>\n",
       "      <td>7.526e-08</td>\n",
       "      <td>5.259e-02</td>\n",
       "      <td>1.506e-08</td>\n",
       "      <td>0.209</td>\n",
       "      <td>1.759e-04</td>\n",
       "    </tr>\n",
       "    <tr>\n",
       "      <th>45</th>\n",
       "      <td>0.958</td>\n",
       "      <td>8.188e-08</td>\n",
       "      <td>4.173e-02</td>\n",
       "      <td>1.135e-08</td>\n",
       "      <td>0.210</td>\n",
       "      <td>1.796e-04</td>\n",
       "    </tr>\n",
       "    <tr>\n",
       "      <th>46</th>\n",
       "      <td>0.969</td>\n",
       "      <td>9.312e-08</td>\n",
       "      <td>3.104e-02</td>\n",
       "      <td>5.095e-09</td>\n",
       "      <td>0.211</td>\n",
       "      <td>1.833e-04</td>\n",
       "    </tr>\n",
       "    <tr>\n",
       "      <th>47</th>\n",
       "      <td>0.979</td>\n",
       "      <td>3.975e-08</td>\n",
       "      <td>2.053e-02</td>\n",
       "      <td>2.741e-08</td>\n",
       "      <td>0.212</td>\n",
       "      <td>1.870e-04</td>\n",
       "    </tr>\n",
       "    <tr>\n",
       "      <th>48</th>\n",
       "      <td>0.990</td>\n",
       "      <td>3.925e-08</td>\n",
       "      <td>1.017e-02</td>\n",
       "      <td>2.744e-08</td>\n",
       "      <td>0.213</td>\n",
       "      <td>1.906e-04</td>\n",
       "    </tr>\n",
       "    <tr>\n",
       "      <th>49</th>\n",
       "      <td>1.000</td>\n",
       "      <td>1.003e-08</td>\n",
       "      <td>2.595e-08</td>\n",
       "      <td>4.888e-08</td>\n",
       "      <td>0.214</td>\n",
       "      <td>1.943e-04</td>\n",
       "    </tr>\n",
       "  </tbody>\n",
       "</table>\n",
       "</div>"
      ],
      "text/plain": [
       "      SPY        TIP        GLD        VNQ  expected annual return  \\\n",
       "0   0.086  8.949e-01  1.868e-02 -8.719e-09                   0.070   \n",
       "1   0.192  7.033e-01  1.050e-01  2.197e-08                   0.092   \n",
       "2   0.238  6.195e-01  1.428e-01  2.361e-08                   0.101   \n",
       "3   0.273  5.552e-01  1.717e-01  2.725e-08                   0.109   \n",
       "4   0.303  5.010e-01  1.962e-01  2.704e-08                   0.115   \n",
       "5   0.329  4.532e-01  2.177e-01  2.683e-08                   0.120   \n",
       "6   0.353  4.100e-01  2.372e-01  2.665e-08                   0.125   \n",
       "7   0.375  3.703e-01  2.551e-01  2.649e-08                   0.130   \n",
       "8   0.395  3.333e-01  2.717e-01  2.633e-08                   0.134   \n",
       "9   0.414  2.986e-01  2.874e-01  2.619e-08                   0.138   \n",
       "10  0.432  2.657e-01  3.022e-01  2.604e-08                   0.142   \n",
       "11  0.449  2.345e-01  3.162e-01  2.760e-08                   0.145   \n",
       "12  0.466  2.046e-01  3.297e-01  2.622e-08                   0.149   \n",
       "13  0.481  1.760e-01  3.426e-01  2.574e-08                   0.152   \n",
       "14  0.497  1.485e-01  3.550e-01  2.565e-08                   0.155   \n",
       "15  0.511  1.219e-01  3.670e-01  2.449e-08                   0.158   \n",
       "16  0.525  9.616e-02  3.786e-01  2.299e-09                   0.161   \n",
       "17  0.539  7.124e-02  3.898e-01  2.484e-08                   0.164   \n",
       "18  0.552  4.705e-02  4.007e-01  2.368e-09                   0.166   \n",
       "19  0.565  2.351e-02  4.113e-01  2.418e-08                   0.169   \n",
       "20  0.578  6.161e-04  4.216e-01  2.425e-08                   0.172   \n",
       "21  0.602  7.391e-07  3.977e-01  2.466e-08                   0.174   \n",
       "22  0.625  1.905e-07  3.748e-01  2.499e-08                   0.177   \n",
       "23  0.647  4.029e-07  3.535e-01  2.511e-08                   0.179   \n",
       "24  0.667  2.066e-07  3.334e-01  2.557e-08                   0.181   \n",
       "25  0.686  1.500e-07  3.143e-01  2.573e-08                   0.183   \n",
       "26  0.704  1.229e-07  2.962e-01  2.579e-08                   0.184   \n",
       "27  0.721  1.067e-07  2.789e-01  2.579e-08                   0.186   \n",
       "28  0.738  9.591e-08  2.623e-01  2.574e-08                   0.188   \n",
       "29  0.754  8.819e-08  2.463e-01  2.566e-08                   0.189   \n",
       "30  0.769  8.244e-08  2.308e-01  2.555e-08                   0.191   \n",
       "31  0.784  7.804e-08  2.159e-01  2.540e-08                   0.192   \n",
       "32  0.799  7.459e-08  2.014e-01  2.522e-08                   0.194   \n",
       "33  0.813  7.188e-08  1.873e-01  2.500e-08                   0.195   \n",
       "34  0.826  6.975e-08  1.736e-01  2.473e-08                   0.196   \n",
       "35  0.840  6.811e-08  1.603e-01  2.442e-08                   0.198   \n",
       "36  0.853  6.689e-08  1.473e-01  2.405e-08                   0.199   \n",
       "37  0.865  6.605e-08  1.345e-01  2.361e-08                   0.200   \n",
       "38  0.878  6.560e-08  1.221e-01  2.307e-08                   0.202   \n",
       "39  0.890  6.554e-08  1.099e-01  2.242e-08                   0.203   \n",
       "40  0.902  6.595e-08  9.803e-02  2.161e-08                   0.204   \n",
       "41  0.914  6.688e-08  8.635e-02  2.060e-08                   0.205   \n",
       "42  0.925  6.846e-08  7.490e-02  1.929e-08                   0.206   \n",
       "43  0.936  7.109e-08  6.364e-02  1.753e-08                   0.207   \n",
       "44  0.947  7.526e-08  5.259e-02  1.506e-08                   0.209   \n",
       "45  0.958  8.188e-08  4.173e-02  1.135e-08                   0.210   \n",
       "46  0.969  9.312e-08  3.104e-02  5.095e-09                   0.211   \n",
       "47  0.979  3.975e-08  2.053e-02  2.741e-08                   0.212   \n",
       "48  0.990  3.925e-08  1.017e-02  2.744e-08                   0.213   \n",
       "49  1.000  1.003e-08  2.595e-08  4.888e-08                   0.214   \n",
       "\n",
       "    expected risk  \n",
       "0       1.387e-05  \n",
       "1       1.755e-05  \n",
       "2       2.124e-05  \n",
       "3       2.492e-05  \n",
       "4       2.860e-05  \n",
       "5       3.229e-05  \n",
       "6       3.597e-05  \n",
       "7       3.965e-05  \n",
       "8       4.333e-05  \n",
       "9       4.702e-05  \n",
       "10      5.070e-05  \n",
       "11      5.438e-05  \n",
       "12      5.807e-05  \n",
       "13      6.175e-05  \n",
       "14      6.543e-05  \n",
       "15      6.911e-05  \n",
       "16      7.280e-05  \n",
       "17      7.648e-05  \n",
       "18      8.016e-05  \n",
       "19      8.385e-05  \n",
       "20      8.753e-05  \n",
       "21      9.121e-05  \n",
       "22      9.489e-05  \n",
       "23      9.858e-05  \n",
       "24      1.023e-04  \n",
       "25      1.059e-04  \n",
       "26      1.096e-04  \n",
       "27      1.133e-04  \n",
       "28      1.170e-04  \n",
       "29      1.207e-04  \n",
       "30      1.244e-04  \n",
       "31      1.280e-04  \n",
       "32      1.317e-04  \n",
       "33      1.354e-04  \n",
       "34      1.391e-04  \n",
       "35      1.428e-04  \n",
       "36      1.465e-04  \n",
       "37      1.501e-04  \n",
       "38      1.538e-04  \n",
       "39      1.575e-04  \n",
       "40      1.612e-04  \n",
       "41      1.649e-04  \n",
       "42      1.686e-04  \n",
       "43      1.722e-04  \n",
       "44      1.759e-04  \n",
       "45      1.796e-04  \n",
       "46      1.833e-04  \n",
       "47      1.870e-04  \n",
       "48      1.906e-04  \n",
       "49      1.943e-04  "
      ]
     },
     "execution_count": 27,
     "metadata": {},
     "output_type": "execute_result"
    }
   ],
   "source": [
    "# store results in dataframe \n",
    "results = pd.DataFrame(solutions, columns = all_asset)\n",
    "results['expected annual return'] = obj1\n",
    "results['expected risk'] = obj2\n",
    "\n",
    "pd.set_option(\"display.precision\", 3)\n",
    "results"
   ]
  }
 ],
 "metadata": {
  "kernelspec": {
   "display_name": "Python 3",
   "language": "python",
   "name": "python3"
  },
  "language_info": {
   "codemirror_mode": {
    "name": "ipython",
    "version": 3
   },
   "file_extension": ".py",
   "mimetype": "text/x-python",
   "name": "python",
   "nbconvert_exporter": "python",
   "pygments_lexer": "ipython3",
   "version": "3.8.3"
  },
  "toc": {
   "base_numbering": 1,
   "nav_menu": {},
   "number_sections": true,
   "sideBar": true,
   "skip_h1_title": false,
   "title_cell": "Table of Contents",
   "title_sidebar": "Contents",
   "toc_cell": false,
   "toc_position": {},
   "toc_section_display": true,
   "toc_window_display": false
  }
 },
 "nbformat": 4,
 "nbformat_minor": 5
}
